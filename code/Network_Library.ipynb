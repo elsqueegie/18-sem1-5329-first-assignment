{
 "cells": [
  {
   "cell_type": "code",
   "execution_count": 131,
   "metadata": {
    "collapsed": true
   },
   "outputs": [],
   "source": [
    "import numpy as np\n",
    "np.random.seed(seed=1)\n",
    "import h5py\n",
    "with h5py.File('../data/Assignment-1-Dataset/train_128.h5','r') as H:\n",
    "    data = np.copy(H['data'])\n",
    "with h5py.File('../data/Assignment-1-Dataset/train_label.h5','r') as H:\n",
    "    label = np.copy(H['label'])"
   ]
  },
  {
   "cell_type": "code",
   "execution_count": 132,
   "metadata": {
    "collapsed": true
   },
   "outputs": [],
   "source": [
    "with h5py.File('../data/Assignment-1-Dataset/train_128.h5','r') as H:\n",
    "    data = np.copy(H['data'])\n",
    "with h5py.File('../data/Assignment-1-Dataset/train_label.h5','r') as H:\n",
    "    label = np.copy(H['label'])\n",
    "\n",
    "data = data.copy()\n",
    "#data = np.c_[data, np.ones(len(data))]\n",
    "\n",
    "g = data.copy()\n",
    "epsilon = 1e-05"
   ]
  },
  {
   "cell_type": "code",
   "execution_count": 300,
   "metadata": {},
   "outputs": [],
   "source": [
    "def add_constant(data):\n",
    "    return np.c_[data, np.ones(len(data))]\n",
    "\n",
    "def relu(matrix):\n",
    "    # activation function that gives x if x > 0 else 0\n",
    "    return np.clip(matrix, 0, None)\n",
    "\n",
    "def leaky_relu(matrix, alpha=0.005):\n",
    "    # activation function that draws on ReLU but has a slight gradient for x < 0\n",
    "    matrix[matrix<0] = matrix[matrix<0] * alpha\n",
    "    return matrix\n",
    "\n",
    "def sigmoid(column):\n",
    "    # activation function that returns a value between 0 and 1, good for probabilities\n",
    "    return 1/(1+np.exp(-column))\n",
    "\n",
    "def tanh(column):\n",
    "    # Activation function that returns a value between -1 and 1\n",
    "    # problems occurred with large negatives when applying (1 - np.exp(-column)) / (1 + np.exp(-column)) \n",
    "    # using numpy equivalent instead\n",
    "    return np.tanh(column)\n",
    "\n",
    "def softmax(layer_output):\n",
    "    layer_output = layer_output / np.max(np.abs(layer_output))\n",
    "    j = np.exp(layer_output) + epsilon\n",
    "    j /= j.sum(axis=1).reshape(len(j),1)\n",
    "    return j\n",
    "\n",
    "def cross_entropy(output, label):\n",
    "    m = len(label)\n",
    "    p_out = softmax(output)\n",
    "    log_func = -np.log(p_out[range(m), label])\n",
    "    return np.sum(log_func) / m\n",
    "\n",
    "def derivative_sigmoid(x):\n",
    "    return np.multiply(sigmoid(x), (1-sigmoid(x)))\n",
    "    \n",
    "def derivative_tanh(x):\n",
    "    return 1 - np.multiply(tanh(x), tanh(x))\n",
    "\n",
    "def derivative_relu(x):\n",
    "    return (x > 0) - 0.0\n",
    "\n",
    "def derivative_leaky_relu(x, alpha=0.005):\n",
    "    #returns the gradient of a leaky_relu at point x\n",
    "    to_ret = grad_relu(x)\n",
    "    to_ret[to_ret<=0] = alpha\n",
    "    return to_ret\n",
    "\n",
    "get_derivative = {\n",
    "    'sigmoid':derivative_sigmoid,\n",
    "    'tanh':derivative_tanh,\n",
    "    'relu':derivative_relu,\n",
    "    'leaky_relu':derivative_leaky_relu,\n",
    "}\n",
    "\n",
    "def activate(in_data, kind='relu'):\n",
    "    # Apply an activation function to a node's output\n",
    "    actionary = {\n",
    "        'relu':relu,\n",
    "        'leaky_relu':leaky_relu,\n",
    "        'sigmoid':sigmoid,\n",
    "        'tanh':tanh,\n",
    "        'softmax':softmax\n",
    "    }\n",
    "    return actionary[kind](in_data)\n",
    "\n",
    "def layer_mult(in_data, weights, bias):\n",
    "    # Multiply each feature (including constant) by its weight then sum the result\n",
    "    #in_data = add_constant(in_data)\n",
    "    if in_data.shape[1] != weights.shape[0]:\n",
    "        raise ValueError(\"Input matrix doesn't match weight vector: {} weights and {} features\".format(\n",
    "            len(weights),in_data.shape[1])\n",
    "        )\n",
    "    return in_data @ weights + bias\n",
    "    \n",
    "def layer_activate(product, activation_func='sigmoid'):\n",
    "    if activation_func=='softmax':\n",
    "        return softmax(product)\n",
    "    else:\n",
    "        return activate(product, kind=activation_func)\n",
    "    \n",
    "def matricise_label(label,output):\n",
    "    T = np.zeros_like(output)\n",
    "    T[range(len(T)),label] += 1\n",
    "    return T\n",
    "\n",
    "def get_cost(label,output):\n",
    "    label = matricise_label(label,output)\n",
    "    return -np.multiply(label,np.log(output)).sum()\n",
    "\n",
    "def error_output(label,output):\n",
    "    label = matricise_label(label,output)\n",
    "    return (output - label)# / len(label)\n",
    "\n",
    "def get_dout(label,output):\n",
    "    label = matricise_label(label,output)\n",
    "    return (output - label) / len(label)\n",
    "\n",
    "def get_dce(output, label):\n",
    "    m = len(label)\n",
    "    preds = output.copy()\n",
    "    preds[range(m), label] -= 1\n",
    "    preds /= m\n",
    "    return preds\n",
    "\n",
    "def normalise_input(X):\n",
    "    return (X - X.mean(axis=1, keepdims=True)) / X.var(axis=1, keepdims=True)"
   ]
  },
  {
   "cell_type": "code",
   "execution_count": 134,
   "metadata": {},
   "outputs": [],
   "source": [
    "class Network:\n",
    "    \n",
    "    def __init__(self):\n",
    "        self.layers = {}\n",
    "        self.in_data = None\n",
    "        self.n_layers = 0\n",
    "        \n",
    "    def set_indata(self, in_data, label):\n",
    "        self.in_data = normalise_input(in_data)\n",
    "        self.label = label\n",
    "        self.in_features = in_data.shape[1]\n",
    "        self.to_pass = self.in_data\n",
    "    \n",
    "    def assign_layer(self, n_nodes, activation, n_inputs):\n",
    "        self.layers[self.n_layers] = Layer(n_nodes, activation, n_inputs)\n",
    "        self.n_layers += 1\n",
    "        \n",
    "    def feed_forward(self):\n",
    "        self.outputs_by_layer = []\n",
    "        data_in = self.in_data.copy()\n",
    "        for ilayer in self.layers.values():\n",
    "            #print(ilayer.activation)\n",
    "            self.ilayer = ilayer\n",
    "            data_in = ilayer.get_layer_output(data_in)\n",
    "            self.outputs_by_layer.append(data_in.copy())\n",
    "        self.output = data_in.reshape(data_in.shape[:2])\n",
    "        return self.outputs_by_layer\n",
    "    \n",
    "    def score_network(self):\n",
    "        self.feed_forward()\n",
    "        self.prediction = np.argmax(self.output, axis=1).reshape(len(self.label))\n",
    "        self.error = get_cost(self.label, self.output)\n",
    "        return self.error\n",
    "    \n",
    "    def backpropagate(self):\n",
    "        self.dout = get_dce(self.output,self.label)\n",
    "        dout = self.dout\n",
    "        for iteration in range(len(self.layers),0,-1):\n",
    "            i = iteration - 1\n",
    "            ilayer = self.layers[i]\n",
    "            if i != max(self.layers.keys()):\n",
    "                dout = ilayer.get_afunc_derivative(dout)\n",
    "            dout = ilayer.get_product_derivative(dout)\n",
    "            self.layers[i].dout = dout\n",
    "            \n",
    "    def get_updates(self, train_rate=0.05, momentum=0.9):\n",
    "        i=0\n",
    "        for ilayer in self.layers.values():\n",
    "            i+=1\n",
    "            #print(i, ilayer.weights.shape, ilayer.grads_w.shape)\n",
    "            ilayer.w_update = (momentum*ilayer.w_update) + (ilayer.grads_w * train_rate)\n",
    "            ilayer.b_update = (momentum*ilayer.b_update) + (ilayer.grads_b * train_rate)\n",
    "        \n",
    "    def update_weights(self, train_rate=0.05, wnorm=False):\n",
    "        i=0\n",
    "        for ilayer in self.layers.values():\n",
    "            i+=1\n",
    "            #print(i, ilayer.weights.shape, ilayer.grads_w.shape)\n",
    "            ilayer.weights -= ilayer.w_update\n",
    "            ilayer.bias -= ilayer.b_update\n",
    "\n",
    "    def train(self, iters, train_rate = 0.05):\n",
    "        self.old_error = get_cost(self.label, self.output)\n",
    "        self.last_update = 0\n",
    "        for i in range(iters):\n",
    "            self.backpropagate()\n",
    "            self.get_updates()\n",
    "            self.update_weights()\n",
    "            self.score_network()\n",
    "        self.new_error = get_cost(self.label, self.output)\n",
    "        print(self.new_error - self.old_error)\n",
    "        \n",
    "        \n",
    "    def get_mangrads(self, epsilon=1e-6):\n",
    "        error = self.score_network()\n",
    "        for ilayer in self.layers.values():\n",
    "            ilayer.mangrads = np.zeros_like(ilayer.weights)\n",
    "            for irow in range(len(ilayer.weights)):\n",
    "                for icol in range(len(ilayer.weights[irow])):\n",
    "                    ilayer.weights[irow,icol] += epsilon\n",
    "                    new_error = self.score_network()\n",
    "                    ilayer.mangrads[irow,icol] += (new_error - error)/epsilon\n",
    "                    ilayer.weights[irow,icol] -= epsilon\n",
    "        error = self.score_network"
   ]
  },
  {
   "cell_type": "code",
   "execution_count": 371,
   "metadata": {
    "collapsed": true
   },
   "outputs": [],
   "source": [
    "class Layer:\n",
    "    \n",
    "    def __init__(self, n_nodes, activation, n_inputs):\n",
    "        self.activation = activation\n",
    "        afunc = self.activation\n",
    "        self.weights = np.random.random((n_inputs,n_nodes))\n",
    "        self.bias = np.random.randn(n_nodes)\n",
    "        self.w_update = 0\n",
    "        self.b_update = 0\n",
    "\n",
    "    def get_layer_output(self, df_in, batch_norm=True):\n",
    "        self.input = df_in\n",
    "        self.product = layer_mult(df_in, self.weights, self.bias)\n",
    "        self.output = layer_activate(self.product, activation_func=self.activation)\n",
    "        return self.output\n",
    "    \n",
    "    def get_afunc_derivative(self, d_backpass):\n",
    "        self.afunc_d_backpass = d_backpass\n",
    "        derivative = get_derivative[self.activation]\n",
    "        to_backpass = derivative(self.product) * d_backpass\n",
    "        return to_backpass\n",
    "    \n",
    "    def get_product_derivative(self, d_backpass):\n",
    "        self.prod_d_backpass = d_backpass\n",
    "        self.grads_w = self.input.T @ d_backpass\n",
    "        self.grads_b = np.sum(d_backpass, axis=0)\n",
    "        to_backpass = d_backpass @ self.weights.T\n",
    "        return to_backpass\n",
    "        "
   ]
  },
  {
   "cell_type": "code",
   "execution_count": 446,
   "metadata": {},
   "outputs": [
    {
     "name": "stdout",
     "output_type": "stream",
     "text": [
      "45.7215690542\n",
      "CPU times: user 914 ms, sys: 14 ms, total: 928 ms\n",
      "Wall time: 936 ms\n"
     ]
    }
   ],
   "source": [
    "%%time\n",
    "l = 20\n",
    "\n",
    "np.random.seed(22)\n",
    "#g = np.random.random((5,20))\n",
    "#label = np.random.randint(0,10,5)\n",
    "\n",
    "t = Network()\n",
    "t.set_indata(g[:l], label[:l])\n",
    "\n",
    "\n",
    "t.assign_layer(50,'relu', 128)\n",
    "#t.assign_layer(500,'relu', 500)\n",
    "#t.assign_layer(25,'leaky_relu', 128)\n",
    "#t.assign_layer(12,'sigmoid',15)\n",
    "t.assign_layer(10,'softmax',50)\n",
    "\n",
    "t.score_network()\n",
    "t.backpropagate()\n",
    "t.get_mangrads()\n",
    "print(t.error)"
   ]
  },
  {
   "cell_type": "code",
   "execution_count": 447,
   "metadata": {},
   "outputs": [
    {
     "name": "stdout",
     "output_type": "stream",
     "text": [
      "-0.369290396147\n"
     ]
    }
   ],
   "source": [
    "t.train(2)\n",
    "t.backpropagate()\n",
    "t.get_mangrads()"
   ]
  },
  {
   "cell_type": "code",
   "execution_count": 436,
   "metadata": {},
   "outputs": [
    {
     "data": {
      "text/plain": [
       "array([ 0.44255448, -1.23832373, -1.2226584 , -0.94936919, -0.39642234,\n",
       "       -0.56284284,  1.49926527,  0.68035124, -0.51152225,  0.79505286])"
      ]
     },
     "execution_count": 436,
     "metadata": {},
     "output_type": "execute_result"
    }
   ],
   "source": [
    "t.layers[1].bias"
   ]
  },
  {
   "cell_type": "code",
   "execution_count": 433,
   "metadata": {},
   "outputs": [
    {
     "data": {
      "text/plain": [
       "array([ 0.40106871,  0.85264812,  0.77478236,  0.16889951,  0.63980614,\n",
       "        0.14688109,  0.08550399,  0.53817073,  0.67907216,  0.46724809,\n",
       "        0.66056552,  0.20699599,  1.00957969,  0.25615731,  0.50542199,\n",
       "        0.00677057,  1.08459404,  1.16289363,  0.8982525 ,  0.69582325,\n",
       "        0.04130751,  0.20201388,  0.94421837,  0.28284747,  0.77002148,\n",
       "        1.01285235,  0.66724203,  0.18952908,  1.02683108,  0.09903319,\n",
       "        0.44750931,  0.58470446,  0.03740661,  0.30840736,  0.15752755,\n",
       "        0.19767272,  0.38873453,  0.95162073,  0.28833995,  0.15179868,\n",
       "        0.8633189 ,  0.65469904,  0.93438511,  0.507066  ,  0.37348023,\n",
       "        0.7852457 ,  0.87352628,  1.14534057,  0.0364023 ,  0.2851143 ])"
      ]
     },
     "execution_count": 433,
     "metadata": {},
     "output_type": "execute_result"
    }
   ],
   "source": [
    "t.layers[1].weights[:,i]"
   ]
  },
  {
   "cell_type": "code",
   "execution_count": null,
   "metadata": {
    "collapsed": true
   },
   "outputs": [],
   "source": []
  },
  {
   "cell_type": "code",
   "execution_count": 453,
   "metadata": {},
   "outputs": [
    {
     "data": {
      "text/plain": [
       "array([  0.23058347,   0.70436555,   0.7203577 ,   1.55792399,\n",
       "         0.75810187,   0.80324604,   1.06511401,   0.46357555,\n",
       "         0.77538262,   0.68834938,   0.79052761,   0.79814111,\n",
       "         0.53244922,  -0.09353118,   6.0066462 ,  -0.14954872,\n",
       "         0.31949622,   0.69164938,   0.69099882,   1.29098563,\n",
       "         0.61651037,   0.08507189,   4.54662562,   2.13870053,\n",
       "         3.79766041,   0.44510898,   0.50976726,  -0.76614313,\n",
       "         2.00274038,   1.55178067,  -0.7159276 ,  -0.1928274 ,\n",
       "         0.07500734,   2.13992377,   0.50537193,   0.04944008,\n",
       "         0.36438618,   0.60936273,  12.34002887,   0.08579525,\n",
       "         0.77885106,   1.36493806,  -5.21547499,   0.43181826,\n",
       "         0.16158447,   1.94331154,   0.51487128,   0.49436772,\n",
       "         0.38731017,   0.3613523 ,   0.43755643,   1.13515851,\n",
       "         0.49121807,   3.90451738,   1.53026137,  -0.09344412,\n",
       "         0.2059406 ,   0.89973067,   0.61003904,   0.17820709,\n",
       "         0.12046772,   1.13977501,   0.79868242,   1.43812658,\n",
       "         0.76220533,   2.68817427,   0.64802104,   0.29173227,\n",
       "         0.56635472,   0.12405528,  -1.48339981,   1.1918954 ,\n",
       "         2.83782324,   0.05298116,  -0.8811445 ,   0.44180357,\n",
       "         0.23616638,   0.4875656 ,   0.79492818,   0.93054658,\n",
       "         0.3822749 ,  -9.28552266,   0.96404452,  -0.01793512,\n",
       "         1.55454067,   0.88054181,   0.11466691,  -2.35201145,\n",
       "         0.7924815 ,   0.66054688,  -7.33909417,   0.63551607,\n",
       "         0.33013654,   0.58390446,  -0.65874874,   0.54624862,\n",
       "         0.6326657 ,   0.101272  , -10.59418782, -14.07896497,\n",
       "         2.55374368,   0.6387707 ,   0.9574159 ,  -2.17960775,\n",
       "         0.53738665,   0.31557495,   0.50532595,   0.60727959,\n",
       "         0.12315704,   1.41252414,   0.7303292 ,  -0.15210969,\n",
       "         0.52648953,   0.74332215,   0.68116793,  -0.36101533,\n",
       "        -0.48347796,   0.51387136,   0.60625651,  -0.26976506,\n",
       "         2.05423467,   0.53401409,   0.4682122 ,   0.39230314,\n",
       "         0.58187158,   0.68988313,   0.15119292,  -0.71427419])"
      ]
     },
     "execution_count": 453,
     "metadata": {},
     "output_type": "execute_result"
    }
   ],
   "source": [
    "i = 10\n",
    "l = 0\n",
    "\n",
    "t.layers[l].grads_w[:,i] / t.layers[l].mangrads[:,i] "
   ]
  },
  {
   "cell_type": "code",
   "execution_count": 407,
   "metadata": {},
   "outputs": [
    {
     "data": {
      "text/plain": [
       "False"
      ]
     },
     "execution_count": 407,
     "metadata": {},
     "output_type": "execute_result"
    }
   ],
   "source": [
    "np.allclose(t.layers[1].mangrads[:,i], t.layers[1].grads_w[:,i])"
   ]
  },
  {
   "cell_type": "code",
   "execution_count": 375,
   "metadata": {},
   "outputs": [
    {
     "name": "stdout",
     "output_type": "stream",
     "text": [
      "0.0\n"
     ]
    }
   ],
   "source": [
    "t.train(500)"
   ]
  },
  {
   "cell_type": "code",
   "execution_count": 376,
   "metadata": {},
   "outputs": [
    {
     "data": {
      "text/plain": [
       "array([1, 1, 1, 1, 1, 1, 1, 1, 1, 1, 1, 1, 1, 1, 1, 1, 1, 1, 1, 1, 1, 1, 1,\n",
       "       1, 1, 1, 1, 1, 1, 1, 1, 1, 1, 1, 1, 1, 1, 1, 1, 1, 1, 1, 1, 1, 1, 1,\n",
       "       1, 1, 1, 1, 1, 1, 1, 1, 1, 1, 1, 1, 1, 1, 1, 1, 1, 1, 1, 1, 1, 1, 1,\n",
       "       1, 1, 1, 1, 1, 1, 1, 1, 1, 1, 1, 1, 1, 1, 1, 1, 1, 1, 1, 1, 1, 1, 1,\n",
       "       1, 1, 1, 1, 1, 1, 1, 1, 1, 1, 1, 1, 1, 1, 1, 1, 1, 1, 1, 1, 1, 1, 1,\n",
       "       1, 1, 1, 1, 1, 1, 1, 1, 1, 1, 1, 1, 1, 1, 1, 1, 1, 1, 1, 1, 1, 1, 1,\n",
       "       1, 1, 1, 1, 1, 1, 1, 1, 1, 1, 1, 1, 1, 1, 1, 1, 1, 1, 1, 1, 1, 1, 1,\n",
       "       1, 1, 1, 1, 1, 1, 1, 1, 1, 1, 1, 1, 1, 1, 1, 1, 1, 1, 1, 1, 1, 1, 1,\n",
       "       1, 1, 1, 1, 1, 1, 1, 1, 1, 1, 1, 1, 1, 1, 1, 1])"
      ]
     },
     "execution_count": 376,
     "metadata": {},
     "output_type": "execute_result"
    }
   ],
   "source": [
    "t.prediction"
   ]
  },
  {
   "cell_type": "code",
   "execution_count": 346,
   "metadata": {
    "collapsed": true
   },
   "outputs": [],
   "source": [
    "get_cost?"
   ]
  },
  {
   "cell_type": "code",
   "execution_count": 362,
   "metadata": {},
   "outputs": [],
   "source": [
    "test_output = t.output.copy()\n",
    "old_error = get_cost(t.label, test_output)\n",
    "output_grads = []\n",
    "for i in range(test_output.shape[1]):\n",
    "    test_output[:,i] += epsilon\n",
    "    output_grads.append(get_cost(t.label, test_output)- old_error) \n",
    "    test_output[:,i] -= epsilon"
   ]
  },
  {
   "cell_type": "code",
   "execution_count": 367,
   "metadata": {},
   "outputs": [
    {
     "data": {
      "text/plain": [
       "array([[ 0.,  0.,  0.,  0.,  0.,  0.,  0.,  0.,  0.,  0.],\n",
       "       [ 0.,  0.,  0.,  0.,  0.,  0.,  0.,  0.,  0.,  0.],\n",
       "       [ 0.,  0.,  0.,  0.,  0.,  0.,  0.,  0.,  0.,  0.],\n",
       "       [ 0.,  0.,  0.,  0.,  0.,  0.,  0.,  0.,  0.,  0.],\n",
       "       [ 0.,  0.,  0.,  0.,  0.,  0.,  0.,  0.,  0.,  0.],\n",
       "       [ 0.,  0.,  0.,  0.,  0.,  0.,  0.,  0.,  0.,  0.],\n",
       "       [ 0.,  0.,  0.,  0.,  0.,  0.,  0.,  0.,  0.,  0.],\n",
       "       [ 0.,  0.,  0.,  0.,  0.,  0.,  0.,  0.,  0.,  0.],\n",
       "       [ 0.,  0.,  0.,  0.,  0.,  0.,  0.,  0.,  0.,  0.],\n",
       "       [ 0.,  0.,  0.,  0.,  0.,  0.,  0.,  0.,  0.,  0.],\n",
       "       [ 0.,  0.,  0.,  0.,  0.,  0.,  0.,  0.,  0.,  0.],\n",
       "       [ 0.,  0.,  0.,  0.,  0.,  0.,  0.,  0.,  0.,  0.],\n",
       "       [ 0.,  0.,  0.,  0.,  0.,  0.,  0.,  0.,  0.,  0.],\n",
       "       [ 0.,  0.,  0.,  0.,  0.,  0.,  0.,  0.,  0.,  0.],\n",
       "       [ 0.,  0.,  0.,  0.,  0.,  0.,  0.,  0.,  0.,  0.],\n",
       "       [ 0.,  0.,  0.,  0.,  0.,  0.,  0.,  0.,  0.,  0.],\n",
       "       [ 0.,  0.,  0.,  0.,  0.,  0.,  0.,  0.,  0.,  0.],\n",
       "       [ 0.,  0.,  0.,  0.,  0.,  0.,  0.,  0.,  0.,  0.],\n",
       "       [ 0.,  0.,  0.,  0.,  0.,  0.,  0.,  0.,  0.,  0.],\n",
       "       [ 0.,  0.,  0.,  0.,  0.,  0.,  0.,  0.,  0.,  0.],\n",
       "       [ 0.,  0.,  0.,  0.,  0.,  0.,  0.,  0.,  0.,  0.],\n",
       "       [ 0.,  0.,  0.,  0.,  0.,  0.,  0.,  0.,  0.,  0.],\n",
       "       [ 0.,  0.,  0.,  0.,  0.,  0.,  0.,  0.,  0.,  0.],\n",
       "       [ 0.,  0.,  0.,  0.,  0.,  0.,  0.,  0.,  0.,  0.],\n",
       "       [ 0.,  0.,  0.,  0.,  0.,  0.,  0.,  0.,  0.,  0.],\n",
       "       [ 0.,  0.,  0.,  0.,  0.,  0.,  0.,  0.,  0.,  0.],\n",
       "       [ 0.,  0.,  0.,  0.,  0.,  0.,  0.,  0.,  0.,  0.],\n",
       "       [ 0.,  0.,  0.,  0.,  0.,  0.,  0.,  0.,  0.,  0.],\n",
       "       [ 0.,  0.,  0.,  0.,  0.,  0.,  0.,  0.,  0.,  0.],\n",
       "       [ 0.,  0.,  0.,  0.,  0.,  0.,  0.,  0.,  0.,  0.],\n",
       "       [ 0.,  0.,  0.,  0.,  0.,  0.,  0.,  0.,  0.,  0.],\n",
       "       [ 0.,  0.,  0.,  0.,  0.,  0.,  0.,  0.,  0.,  0.],\n",
       "       [ 0.,  0.,  0.,  0.,  0.,  0.,  0.,  0.,  0.,  0.],\n",
       "       [ 0.,  0.,  0.,  0.,  0.,  0.,  0.,  0.,  0.,  0.],\n",
       "       [ 0.,  0.,  0.,  0.,  0.,  0.,  0.,  0.,  0.,  0.],\n",
       "       [ 0.,  0.,  0.,  0.,  0.,  0.,  0.,  0.,  0.,  0.],\n",
       "       [ 0.,  0.,  0.,  0.,  0.,  0.,  0.,  0.,  0.,  0.],\n",
       "       [ 0.,  0.,  0.,  0.,  0.,  0.,  0.,  0.,  0.,  0.],\n",
       "       [ 0.,  0.,  0.,  0.,  0.,  0.,  0.,  0.,  0.,  0.],\n",
       "       [ 0.,  0.,  0.,  0.,  0.,  0.,  0.,  0.,  0.,  0.],\n",
       "       [ 0.,  0.,  0.,  0.,  0.,  0.,  0.,  0.,  0.,  0.],\n",
       "       [ 0.,  0.,  0.,  0.,  0.,  0.,  0.,  0.,  0.,  0.],\n",
       "       [ 0.,  0.,  0.,  0.,  0.,  0.,  0.,  0.,  0.,  0.],\n",
       "       [ 0.,  0.,  0.,  0.,  0.,  0.,  0.,  0.,  0.,  0.],\n",
       "       [ 0.,  0.,  0.,  0.,  0.,  0.,  0.,  0.,  0.,  0.],\n",
       "       [ 0.,  0.,  0.,  0.,  0.,  0.,  0.,  0.,  0.,  0.],\n",
       "       [ 0.,  0.,  0.,  0.,  0.,  0.,  0.,  0.,  0.,  0.],\n",
       "       [ 0.,  0.,  0.,  0.,  0.,  0.,  0.,  0.,  0.,  0.],\n",
       "       [ 0.,  0.,  0.,  0.,  0.,  0.,  0.,  0.,  0.,  0.],\n",
       "       [ 0.,  0.,  0.,  0.,  0.,  0.,  0.,  0.,  0.,  0.]])"
      ]
     },
     "execution_count": 367,
     "metadata": {},
     "output_type": "execute_result"
    }
   ],
   "source": [
    "t.layers[2].grads_w"
   ]
  },
  {
   "cell_type": "code",
   "execution_count": 370,
   "metadata": {},
   "outputs": [
    {
     "data": {
      "text/plain": [
       "array([ 0.30366002, -0.40967897,  0.5750902 , -0.19845714,  0.38912031,\n",
       "        0.10144846,  0.80659926, -0.08950954,  0.39371617,  1.23882716,\n",
       "       -0.32876484,  0.38711611,  0.68372851,  0.06480703,  0.54310119,\n",
       "        0.806761  ,  0.1090789 ,  0.97862672,  0.58724098, -0.42613699,\n",
       "        0.52227834,  1.74019081,  0.77556802,  0.71225036, -0.28961528,\n",
       "        0.67465027,  0.1703845 ,  0.39727038, -0.09934754,  0.40173967,\n",
       "        0.47005709,  1.38184874,  1.02877867, -0.45658902,  0.77552531,\n",
       "       -0.29338505,  0.02078638,  0.33103971,  0.55108329, -0.21489282,\n",
       "        0.2821035 ,  0.78199794, -0.31781169,  0.28965301, -0.4339738 ,\n",
       "        0.30249869, -0.18009528,  0.69198284,  0.93249157,  0.03985033])"
      ]
     },
     "execution_count": 370,
     "metadata": {},
     "output_type": "execute_result"
    }
   ],
   "source": [
    "t.layers[1].weights[0]"
   ]
  },
  {
   "cell_type": "code",
   "execution_count": 368,
   "metadata": {},
   "outputs": [
    {
     "data": {
      "text/plain": [
       "array([[ 0.,  0.,  0., ...,  0.,  0.,  0.],\n",
       "       [ 0.,  0.,  0., ...,  0.,  0.,  0.],\n",
       "       [ 0.,  0.,  0., ...,  0.,  0.,  0.],\n",
       "       ..., \n",
       "       [ 0.,  0.,  0., ...,  0.,  0.,  0.],\n",
       "       [ 0.,  0.,  0., ...,  0.,  0.,  0.],\n",
       "       [ 0.,  0.,  0., ...,  0.,  0.,  0.]])"
      ]
     },
     "execution_count": 368,
     "metadata": {},
     "output_type": "execute_result"
    }
   ],
   "source": [
    "t.layers[1].output"
   ]
  },
  {
   "cell_type": "code",
   "execution_count": 363,
   "metadata": {},
   "outputs": [
    {
     "data": {
      "text/plain": [
       "[-0.0019999166713091654,\n",
       " -0.0019999230808593893,\n",
       " -0.0019998888971031192,\n",
       " -0.0019998823621563133,\n",
       " -0.0019998888971599627,\n",
       " -0.0019999000066945882,\n",
       " -0.0019999047679561954,\n",
       " -0.0019999047679561954,\n",
       " -0.0019998750104264218,\n",
       " -0.0019998947441877135]"
      ]
     },
     "execution_count": 363,
     "metadata": {},
     "output_type": "execute_result"
    }
   ],
   "source": [
    "output_grads"
   ]
  },
  {
   "cell_type": "code",
   "execution_count": 324,
   "metadata": {
    "collapsed": true
   },
   "outputs": [],
   "source": [
    "t.get_mangrads()"
   ]
  },
  {
   "cell_type": "code",
   "execution_count": 326,
   "metadata": {},
   "outputs": [
    {
     "data": {
      "text/plain": [
       "(array([ -1.65982783e-05,  -3.13775672e-05,   2.54090082e-05,\n",
       "         -2.13731255e-05,   3.56408236e-05]),\n",
       " array([-0.00017458, -0.00032883,  0.00026597, -0.00022484,  0.00037298]))"
      ]
     },
     "execution_count": 326,
     "metadata": {},
     "output_type": "execute_result"
    }
   ],
   "source": [
    "t.layers[0].mangrads[0], t.layers[0].grads_w[0]"
   ]
  },
  {
   "cell_type": "code",
   "execution_count": 307,
   "metadata": {
    "collapsed": true
   },
   "outputs": [],
   "source": [
    "test_output = t.output"
   ]
  },
  {
   "cell_type": "code",
   "execution_count": 305,
   "metadata": {},
   "outputs": [
    {
     "data": {
      "text/plain": [
       "2.2255334534459408"
      ]
     },
     "execution_count": 305,
     "metadata": {},
     "output_type": "execute_result"
    }
   ],
   "source": [
    "cross_entropy(test_output, [0,9])"
   ]
  },
  {
   "cell_type": "code",
   "execution_count": 301,
   "metadata": {},
   "outputs": [
    {
     "data": {
      "text/plain": [
       "array([[ 0.05493821,  0.04016666,  0.06442238,  0.04456636,  0.04124994,\n",
       "         0.06096364,  0.04847955,  0.04757132,  0.041621  , -0.44397905],\n",
       "       [-0.44504614,  0.04016599,  0.06445408,  0.04458198,  0.04124244,\n",
       "         0.06092663,  0.04844003,  0.04757531,  0.04160851,  0.05605117]])"
      ]
     },
     "execution_count": 301,
     "metadata": {},
     "output_type": "execute_result"
    }
   ],
   "source": [
    "get_dout(t.label,t.output)"
   ]
  },
  {
   "cell_type": "code",
   "execution_count": 309,
   "metadata": {},
   "outputs": [
    {
     "data": {
      "text/plain": [
       "array([[ 0.0574294 ,  0.03963756,  0.0636023 ,  0.04399186,  0.04071347,\n",
       "         0.06016038,  0.04788276,  0.04696284,  0.04105631, -0.44143688],\n",
       "       [-0.4425494 ,  0.03963593,  0.06363164,  0.04400608,  0.04070498,\n",
       "         0.06012106,  0.04784188,  0.04696538,  0.0410427 ,  0.05859974]])"
      ]
     },
     "execution_count": 309,
     "metadata": {},
     "output_type": "execute_result"
    }
   ],
   "source": [
    "get_dce(t.output,t.label)"
   ]
  },
  {
   "cell_type": "code",
   "execution_count": 257,
   "metadata": {},
   "outputs": [
    {
     "data": {
      "text/plain": [
       "array([[-0.10630164, -0.344087  , -0.01732137, -0.03571993,  0.10211899,\n",
       "         0.10618585, -0.18991442,  0.10129816,  0.02949733, -0.06896471],\n",
       "       [-0.08095868,  0.07616902, -0.18889889,  0.18843297,  0.10181084,\n",
       "         0.12785157, -0.10830791, -0.08959983, -0.19846185, -0.24157868]])"
      ]
     },
     "execution_count": 257,
     "metadata": {},
     "output_type": "execute_result"
    }
   ],
   "source": [
    "t.layers[2].get_product_derivative(err)"
   ]
  },
  {
   "cell_type": "code",
   "execution_count": 258,
   "metadata": {
    "collapsed": true
   },
   "outputs": [],
   "source": [
    "ilayer = t.layers[2]"
   ]
  },
  {
   "cell_type": "code",
   "execution_count": 266,
   "metadata": {},
   "outputs": [
    {
     "data": {
      "text/plain": [
       "[<matplotlib.lines.Line2D at 0x11d150c88>,\n",
       " <matplotlib.lines.Line2D at 0x11d150e48>,\n",
       " <matplotlib.lines.Line2D at 0x11d157128>,\n",
       " <matplotlib.lines.Line2D at 0x11d157320>,\n",
       " <matplotlib.lines.Line2D at 0x11d157518>,\n",
       " <matplotlib.lines.Line2D at 0x11d157710>,\n",
       " <matplotlib.lines.Line2D at 0x11d157908>,\n",
       " <matplotlib.lines.Line2D at 0x11d157b00>,\n",
       " <matplotlib.lines.Line2D at 0x11d157cf8>,\n",
       " <matplotlib.lines.Line2D at 0x11d157ef0>]"
      ]
     },
     "execution_count": 266,
     "metadata": {},
     "output_type": "execute_result"
    },
    {
     "data": {
      "image/png": "[encoded data removed]",
      "text/plain": [
       "<matplotlib.figure.Figure at 0x11d104978>"
      ]
     },
     "metadata": {},
     "output_type": "display_data"
    }
   ],
   "source": [
    "plt.plot(np.round(ilayer.grads_w / ilayer.mangrads, 0))"
   ]
  },
  {
   "cell_type": "code",
   "execution_count": 259,
   "metadata": {},
   "outputs": [
    {
     "data": {
      "text/plain": [
       "array([[-0.12542892,  0.02714585,  0.03955924,  0.02906723,  0.02760448,\n",
       "         0.03747238,  0.03087342,  0.03045172,  0.02776278, -0.12450817],\n",
       "       [-0.25764486,  0.0557195 ,  0.08119922,  0.05966332,  0.05666088,\n",
       "         0.0769157 ,  0.0633707 ,  0.06250513,  0.05698581, -0.2553754 ],\n",
       "       [-0.25399041,  0.05488224,  0.07997911,  0.05876681,  0.05580948,\n",
       "         0.07575992,  0.06241846,  0.0615659 ,  0.05612952, -0.25132102],\n",
       "       [-0.27642081,  0.05975436,  0.08707916,  0.06398377,  0.06076391,\n",
       "         0.08248544,  0.0679596 ,  0.06703135,  0.06111236, -0.27374912],\n",
       "       [-0.24678901,  0.05343344,  0.07786776,  0.05721545,  0.05433621,\n",
       "         0.07376002,  0.06077074,  0.05994066,  0.0546478 , -0.24518308],\n",
       "       [-0.09687994,  0.0209285 ,  0.03049881,  0.02240982,  0.02128209,\n",
       "         0.02888988,  0.02380232,  0.02347721,  0.02140413, -0.09581281],\n",
       "       [-0.17155859,  0.03708756,  0.05404716,  0.03971261,  0.03771415,\n",
       "         0.05119599,  0.04218028,  0.04160415,  0.03793042, -0.16991371],\n",
       "       [-0.30447469,  0.06594033,  0.09609386,  0.07060757,  0.0670544 ,\n",
       "         0.09102465,  0.07499504,  0.07397066,  0.06743893, -0.30265076],\n",
       "       [-0.36900608,  0.07993683,  0.11649073,  0.08559473,  0.08128736,\n",
       "         0.11034554,  0.09091349,  0.08967167,  0.08175351, -0.3669878 ],\n",
       "       [-0.14407379,  0.03110375,  0.04532705,  0.03330527,  0.03162924,\n",
       "         0.04293587,  0.03537478,  0.03489162,  0.03181062, -0.14230442]])"
      ]
     },
     "execution_count": 259,
     "metadata": {},
     "output_type": "execute_result"
    }
   ],
   "source": [
    "ilayer.grads_w"
   ]
  },
  {
   "cell_type": "code",
   "execution_count": 292,
   "metadata": {},
   "outputs": [
    {
     "data": {
      "text/plain": [
       "4.396996581048926"
      ]
     },
     "execution_count": 292,
     "metadata": {},
     "output_type": "execute_result"
    }
   ],
   "source": [
    "get_cost(t.label, t.output)"
   ]
  },
  {
   "cell_type": "code",
   "execution_count": 293,
   "metadata": {},
   "outputs": [
    {
     "data": {
      "text/plain": [
       "2.2256464566283061"
      ]
     },
     "execution_count": 293,
     "metadata": {},
     "output_type": "execute_result"
    }
   ],
   "source": [
    "cross_entropy(t.output, t.label)"
   ]
  },
  {
   "cell_type": "code",
   "execution_count": 291,
   "metadata": {},
   "outputs": [
    {
     "data": {
      "text/plain": [
       "array([[-0.12542892,  0.02714585,  0.03955924,  0.02906723,  0.02760448,\n",
       "         0.03747238,  0.03087342,  0.03045172,  0.02776278, -0.12450817],\n",
       "       [-0.25764486,  0.0557195 ,  0.08119922,  0.05966332,  0.05666088,\n",
       "         0.0769157 ,  0.0633707 ,  0.06250513,  0.05698581, -0.2553754 ],\n",
       "       [-0.25399041,  0.05488224,  0.07997911,  0.05876681,  0.05580948,\n",
       "         0.07575992,  0.06241846,  0.0615659 ,  0.05612952, -0.25132102],\n",
       "       [-0.27642081,  0.05975436,  0.08707916,  0.06398377,  0.06076391,\n",
       "         0.08248544,  0.0679596 ,  0.06703135,  0.06111236, -0.27374912],\n",
       "       [-0.24678901,  0.05343344,  0.07786776,  0.05721545,  0.05433621,\n",
       "         0.07376002,  0.06077074,  0.05994066,  0.0546478 , -0.24518308],\n",
       "       [-0.09687994,  0.0209285 ,  0.03049881,  0.02240982,  0.02128209,\n",
       "         0.02888988,  0.02380232,  0.02347721,  0.02140413, -0.09581281],\n",
       "       [-0.17155859,  0.03708756,  0.05404716,  0.03971261,  0.03771415,\n",
       "         0.05119599,  0.04218028,  0.04160415,  0.03793042, -0.16991371],\n",
       "       [-0.30447469,  0.06594033,  0.09609386,  0.07060757,  0.0670544 ,\n",
       "         0.09102465,  0.07499504,  0.07397066,  0.06743893, -0.30265076],\n",
       "       [-0.36900608,  0.07993683,  0.11649073,  0.08559473,  0.08128736,\n",
       "         0.11034554,  0.09091349,  0.08967167,  0.08175351, -0.3669878 ],\n",
       "       [-0.14407379,  0.03110375,  0.04532705,  0.03330527,  0.03162924,\n",
       "         0.04293587,  0.03537478,  0.03489162,  0.03181062, -0.14230442]])"
      ]
     },
     "execution_count": 291,
     "metadata": {},
     "output_type": "execute_result"
    }
   ],
   "source": [
    "t.layers[2].grads_w"
   ]
  },
  {
   "cell_type": "code",
   "execution_count": 252,
   "metadata": {},
   "outputs": [
    {
     "data": {
      "text/plain": [
       "array([[-0.08414356, -0.06503721, -0.09954917, -0.08193484, -0.05100025],\n",
       "       [-0.02819732, -0.01448396, -0.00639131, -0.04403811, -0.00909677]])"
      ]
     },
     "execution_count": 252,
     "metadata": {},
     "output_type": "execute_result"
    }
   ],
   "source": [
    "t.layers[1].get_product_derivative(t.layers[1].get_afunc_derivative(t.layers[2].get_product_derivative(err)))"
   ]
  },
  {
   "cell_type": "code",
   "execution_count": null,
   "metadata": {
    "collapsed": true
   },
   "outputs": [],
   "source": [
    "t.layers[2].get_afunc_derivative"
   ]
  },
  {
   "cell_type": "code",
   "execution_count": null,
   "metadata": {
    "collapsed": true
   },
   "outputs": [],
   "source": [
    "t.layers[2].get_afunc_derivative"
   ]
  },
  {
   "cell_type": "code",
   "execution_count": null,
   "metadata": {
    "collapsed": true
   },
   "outputs": [],
   "source": [
    "t.layers[2].get_afunc_gradient"
   ]
  },
  {
   "cell_type": "code",
   "execution_count": null,
   "metadata": {
    "collapsed": true
   },
   "outputs": [],
   "source": []
  },
  {
   "cell_type": "code",
   "execution_count": 210,
   "metadata": {},
   "outputs": [
    {
     "data": {
      "text/plain": [
       "array([ 0.43992836,  0.49867195,  0.83450629,  0.21085033,  0.91344482])"
      ]
     },
     "execution_count": 210,
     "metadata": {},
     "output_type": "execute_result"
    }
   ],
   "source": [
    "t.layers[2].weights[:,9]"
   ]
  },
  {
   "cell_type": "code",
   "execution_count": 212,
   "metadata": {},
   "outputs": [
    {
     "data": {
      "text/plain": [
       "array([ 0.46101685,  0.56115155,  0.86847486,  0.24188919,  0.95429186])"
      ]
     },
     "execution_count": 212,
     "metadata": {},
     "output_type": "execute_result"
    }
   ],
   "source": [
    "t.layers[2].weights[:,9]"
   ]
  },
  {
   "cell_type": "code",
   "execution_count": 194,
   "metadata": {},
   "outputs": [
    {
     "data": {
      "text/plain": [
       "array([[ 0.07071164,  0.12706232,  0.08628238,  0.12572084,  0.09722865,\n",
       "         0.08681074,  0.08294507,  0.14591024,  0.0800286 ,  0.09729953],\n",
       "       [ 0.07070579,  0.12708018,  0.08628507,  0.12568601,  0.0972264 ,\n",
       "         0.08681273,  0.08295283,  0.14591973,  0.08003525,  0.09729601]])"
      ]
     },
     "execution_count": 194,
     "metadata": {},
     "output_type": "execute_result"
    }
   ],
   "source": [
    "softmax(t.output)"
   ]
  },
  {
   "cell_type": "code",
   "execution_count": 192,
   "metadata": {},
   "outputs": [
    {
     "data": {
      "text/plain": [
       "array([[ 0.04618267,  0.14440872,  0.07953804,  0.14262983,  0.09955642,\n",
       "         0.08056125,  0.07292669,  0.16759037,  0.06692744,  0.09967856],\n",
       "       [ 0.04616851,  0.14443199,  0.07954299,  0.1425831 ,  0.09955227,\n",
       "         0.0805648 ,  0.07294207,  0.16760098,  0.06694108,  0.09967222]])"
      ]
     },
     "execution_count": 192,
     "metadata": {},
     "output_type": "execute_result"
    }
   ],
   "source": [
    "t.output"
   ]
  },
  {
   "cell_type": "code",
   "execution_count": null,
   "metadata": {
    "collapsed": true
   },
   "outputs": [],
   "source": []
  },
  {
   "cell_type": "code",
   "execution_count": null,
   "metadata": {
    "collapsed": true
   },
   "outputs": [],
   "source": []
  },
  {
   "cell_type": "code",
   "execution_count": null,
   "metadata": {
    "collapsed": true
   },
   "outputs": [],
   "source": []
  },
  {
   "cell_type": "code",
   "execution_count": 159,
   "metadata": {},
   "outputs": [
    {
     "data": {
      "text/plain": [
       "array([[-2,  2,  0,  0,  0, -1,  0,  2,  1,  0],\n",
       "       [-8,  6, -1,  0,  0, -4, -1,  5,  3,  0],\n",
       "       [-4,  3,  0,  0,  0, -2,  0,  3,  1,  0],\n",
       "       [-4,  3,  0,  0,  0, -2,  0,  3,  1,  0],\n",
       "       [-5,  3,  0,  0,  0, -3,  0,  3,  2,  0]])"
      ]
     },
     "execution_count": 159,
     "metadata": {},
     "output_type": "execute_result"
    }
   ],
   "source": [
    "(ilayer.grads_w*100).astype(int)"
   ]
  },
  {
   "cell_type": "code",
   "execution_count": 154,
   "metadata": {},
   "outputs": [
    {
     "data": {
      "text/plain": [
       "array([[-1,  0,  0,  0,  0,  0,  0,  0,  0,  0],\n",
       "       [-3,  2,  0,  0,  0, -1,  0, -2,  0,  0],\n",
       "       [-1,  1,  0,  0,  0,  0,  0, -1,  0,  0],\n",
       "       [-1,  1,  0,  0,  0,  0,  0, -1,  0,  0],\n",
       "       [-2,  1,  0,  0,  0, -1,  0, -1,  0,  0]])"
      ]
     },
     "execution_count": 154,
     "metadata": {},
     "output_type": "execute_result"
    }
   ],
   "source": [
    "(ilayer.mangrads*10000).astype(int)"
   ]
  },
  {
   "cell_type": "code",
   "execution_count": 165,
   "metadata": {
    "collapsed": true
   },
   "outputs": [],
   "source": [
    "import matplotlib.pyplot as plt\n",
    "%matplotlib inline"
   ]
  },
  {
   "cell_type": "code",
   "execution_count": 187,
   "metadata": {},
   "outputs": [
    {
     "data": {
      "text/plain": [
       "[<matplotlib.lines.Line2D at 0x11cd4bd68>]"
      ]
     },
     "execution_count": 187,
     "metadata": {},
     "output_type": "execute_result"
    },
    {
     "data": {
      "image/png": "[encoded data removed]",
      "text/plain": [
       "<matplotlib.figure.Figure at 0x11cca71d0>"
      ]
     },
     "metadata": {},
     "output_type": "display_data"
    }
   ],
   "source": [
    "plt.plot(ilayer.grads_w[0] / ilayer.mangrads[0])"
   ]
  },
  {
   "cell_type": "code",
   "execution_count": 181,
   "metadata": {},
   "outputs": [
    {
     "data": {
      "text/plain": [
       "array([[ -1.11203274e-03,   8.20994772e-04,  -1.92853705e-04,\n",
       "          2.19515739e-04,  -5.26995114e-07,  -5.75156145e-04,\n",
       "         -2.56395710e-04,  -9.95090149e-04,   2.65378275e-04,\n",
       "         -2.16541507e-05],\n",
       "       [ -3.28221431e-03,   2.42779175e-03,  -5.76243719e-04,\n",
       "          6.53346849e-04,  -3.11298209e-06,  -1.69473538e-03,\n",
       "         -7.63195507e-04,  -2.92144217e-03,   7.83002052e-04,\n",
       "         -6.24029994e-05],\n",
       "       [ -1.78109980e-03,   1.31674688e-03,  -3.12185611e-04,\n",
       "          3.54781426e-04,  -2.89496205e-06,  -9.20391374e-04,\n",
       "         -4.13411194e-04,  -1.58360422e-03,   4.24599245e-04,\n",
       "         -3.21163651e-05],\n",
       "       [ -1.66509642e-03,   1.22767266e-03,  -2.91213970e-04,\n",
       "          3.29622024e-04,  -2.17095786e-06,  -8.56296895e-04,\n",
       "         -3.85198456e-04,  -1.48805526e-03,   3.97686800e-04,\n",
       "         -3.06991654e-05],\n",
       "       [ -2.14258503e-03,   1.58286984e-03,  -3.73642700e-04,\n",
       "          4.25020852e-04,  -1.88093985e-06,  -1.10800330e-03,\n",
       "         -4.95405467e-04,  -1.91115379e-03,   5.10756298e-04,\n",
       "         -3.99980882e-05]])"
      ]
     },
     "execution_count": 181,
     "metadata": {},
     "output_type": "execute_result"
    }
   ],
   "source": [
    "ilayer.mangrads"
   ]
  },
  {
   "cell_type": "code",
   "execution_count": 180,
   "metadata": {},
   "outputs": [
    {
     "data": {
      "text/plain": [
       "<matplotlib.collections.PathCollection at 0x11ca00be0>"
      ]
     },
     "execution_count": 180,
     "metadata": {},
     "output_type": "execute_result"
    },
    {
     "data": {
      "image/png": "[encoded data removed]",
      "text/plain": [
       "<matplotlib.figure.Figure at 0x11c93f7f0>"
      ]
     },
     "metadata": {},
     "output_type": "display_data"
    }
   ],
   "source": [
    "plt.scatter((ilayer.mangrads / ilayer.grads_w )[1],(ilayer.mangrads / ilayer.grads_w )[2])"
   ]
  },
  {
   "cell_type": "code",
   "execution_count": 141,
   "metadata": {},
   "outputs": [
    {
     "name": "stdout",
     "output_type": "stream",
     "text": [
      "0.039728623902 0.0015828698352\n"
     ]
    }
   ],
   "source": [
    "lnum,i,j = 2,4,1\n",
    "ilayer = t.layers[lnum]\n",
    "print(ilayer.grads_w[i,j], #Check backprop grads\n",
    "      ilayer.mangrads[i,j], # Check manual grads\n",
    "     )"
   ]
  },
  {
   "cell_type": "code",
   "execution_count": null,
   "metadata": {
    "collapsed": true
   },
   "outputs": [],
   "source": []
  },
  {
   "cell_type": "code",
   "execution_count": null,
   "metadata": {
    "collapsed": true
   },
   "outputs": [],
   "source": []
  },
  {
   "cell_type": "code",
   "execution_count": null,
   "metadata": {
    "collapsed": true
   },
   "outputs": [],
   "source": []
  },
  {
   "cell_type": "code",
   "execution_count": null,
   "metadata": {
    "collapsed": true
   },
   "outputs": [],
   "source": []
  },
  {
   "cell_type": "code",
   "execution_count": 124,
   "metadata": {
    "collapsed": true
   },
   "outputs": [],
   "source": [
    "def fc_forward(X, W, b):\n",
    "    out = X @ W + b\n",
    "    cache = (W, X)\n",
    "    return out, cache\n",
    "\n",
    "def fc_backward(dout, cache):\n",
    "    W, h = cache\n",
    "    dW = h.T @ dout\n",
    "    db = np.sum(dout, axis=0)\n",
    "    dX = dout @ W.T\n",
    "    return dX, dW, db\n",
    "\n",
    "def relu_backward(dout, cache):\n",
    "    dX = dout.copy()\n",
    "    dX[cache <= 0] = 0\n",
    "    return dX\n",
    "\n",
    "def relu_forward(X):\n",
    "    out = np.maximum(X, 0)\n",
    "    cache = X\n",
    "    print(len(out),len(cache))\n",
    "    return out, cache"
   ]
  },
  {
   "cell_type": "code",
   "execution_count": 43,
   "metadata": {
    "collapsed": true
   },
   "outputs": [],
   "source": [
    "np.random.seed(1)\n",
    "#cache is W and h1\n",
    "data = np.random.random((3,5))-0.5 # instances # features\n",
    "weights = np.random.random((5,4)) # features X nodes\n",
    "bias = np.array([range(4)])/10 # nodes_bias\n",
    "#dout is error passed back\n",
    "dout = np.random.random((3,4))"
   ]
  },
  {
   "cell_type": "code",
   "execution_count": 15,
   "metadata": {},
   "outputs": [
    {
     "name": "stdout",
     "output_type": "stream",
     "text": [
      "3 3\n"
     ]
    },
    {
     "data": {
      "text/plain": [
       "array([[ 0.00256744,  0.00573199,  0.00155531,  0.00179859,  0.01265324],\n",
       "       [ 0.03937067,  0.08789793,  0.02385014,  0.02758078,  0.19403278],\n",
       "       [ 0.3777885 ,  0.71845389,  0.47795932,  0.48267183,  0.86743771]])"
      ]
     },
     "execution_count": 15,
     "metadata": {},
     "output_type": "execute_result"
    }
   ],
   "source": [
    "out, mcache = fc_forward(data, weights, bias)\n",
    "out, acache = relu_forward(out)\n",
    "fc_backward(relu_backward(dout, acache),mcache)[0]\n",
    "#relu_backward(dout, acache)\n",
    "#out\n",
    "fc_backward(relu_backward(dout, acache), mcache)[0]"
   ]
  },
  {
   "cell_type": "code",
   "execution_count": null,
   "metadata": {
    "collapsed": true
   },
   "outputs": [],
   "source": []
  },
  {
   "cell_type": "code",
   "execution_count": 16,
   "metadata": {},
   "outputs": [
    {
     "data": {
      "text/plain": [
       "array([[ 0.00256744,  0.00573199,  0.00155531,  0.00179859,  0.01265324],\n",
       "       [ 0.03937067,  0.08789793,  0.02385014,  0.02758078,  0.19403278],\n",
       "       [ 0.3777885 ,  0.71845389,  0.47795932,  0.48267183,  0.86743771]])"
      ]
     },
     "execution_count": 16,
     "metadata": {},
     "output_type": "execute_result"
    }
   ],
   "source": [
    "z = Layer(5,'relu',6)\n",
    "z.input = data\n",
    "z.weights = weights\n",
    "z.bias = bias\n",
    "\n",
    "#prod = data * weights\n",
    "z.get_layer_output(data)\n",
    "#z.get_product_derivative(z.get_afunc_derivative(dout))\n",
    "z.get_product_derivative(z.get_afunc_derivative(dout))# == fc_backward(relu_backward(dout, acache), mcache)[0]"
   ]
  },
  {
   "cell_type": "code",
   "execution_count": 80,
   "metadata": {},
   "outputs": [],
   "source": [
    "np.random.randint?"
   ]
  },
  {
   "cell_type": "code",
   "execution_count": 97,
   "metadata": {},
   "outputs": [
    {
     "name": "stdout",
     "output_type": "stream",
     "text": [
      "0.230274237502\n"
     ]
    }
   ],
   "source": [
    "\n",
    "l = 50\n",
    "\n",
    "np.random.seed(22)\n",
    "#g = np.random.random((5,20))\n",
    "#label = np.random.randint(0,10,5)\n",
    "\n",
    "t = Network()\n",
    "t.set_indata(g[:l], label[:l])\n",
    "\n",
    "#t.assign_layer(10,'relu', 128)\n",
    "#t.assign_layer(25,'leaky_relu', 128)\n",
    "t.assign_layer(500,'relu', 128)\n",
    "t.assign_layer(500,'relu', 500)\n",
    "#t.assign_layer(25,'leaky_relu', 128)\n",
    "#t.assign_layer(12,'sigmoid',15)\n",
    "t.assign_layer(10,'softmax',500)\n",
    "\n",
    "t.score_network()\n",
    "t.backpropagate()\n",
    "#t.get_mangrads()\n",
    "print(t.error)"
   ]
  },
  {
   "cell_type": "code",
   "execution_count": 84,
   "metadata": {},
   "outputs": [
    {
     "data": {
      "text/plain": [
       "array([[ 0.20846054,  0.48168106,  0.42053804,  0.859182  ,  0.17116155,\n",
       "         0.33886396,  0.27053283,  0.69104135,  0.22040452,  0.81195092,\n",
       "         0.01052687,  0.5612037 ,  0.81372619,  0.7451003 ,  0.18911136,\n",
       "         0.00614087,  0.77204387,  0.95783217,  0.70193788,  0.29757827],\n",
       "       [ 0.76799274,  0.68821832,  0.38718348,  0.61520583,  0.42755524,\n",
       "         0.58428964,  0.70263552,  0.11189517,  0.92326993,  0.98888627,\n",
       "         0.67741077,  0.79516478,  0.02907635,  0.17775907,  0.87492775,\n",
       "         0.74493208,  0.50809016,  0.1283339 ,  0.48428424,  0.51577349],\n",
       "       [ 0.31126466,  0.04566154,  0.43768066,  0.09588461,  0.04521011,\n",
       "         0.68482872,  0.84919075,  0.12520718,  0.12906401,  0.47306   ,\n",
       "         0.19755851,  0.78162275,  0.60741386,  0.44350009,  0.98202911,\n",
       "         0.70895541,  0.21873042,  0.1674883 ,  0.53876547,  0.31342079],\n",
       "       [ 0.911537  ,  0.08625568,  0.31407403,  0.21913736,  0.73666623,\n",
       "         0.82854036,  0.74456446,  0.17753704,  0.8584532 ,  0.00551241,\n",
       "         0.35764317,  0.95314825,  0.94177639,  0.02304901,  0.673016  ,\n",
       "         0.16411433,  0.56813237,  0.24212296,  0.15785591,  0.50356282],\n",
       "       [ 0.57179515,  0.46995241,  0.50816724,  0.32375161,  0.88649836,\n",
       "         0.25183551,  0.86208781,  0.63519619,  0.69722318,  0.03045359,\n",
       "         0.6573113 ,  0.99932242,  0.50654548,  0.93264575,  0.44080287,\n",
       "         0.20002865,  0.80385357,  0.80767206,  0.05795287,  0.79030604]])"
      ]
     },
     "execution_count": 84,
     "metadata": {},
     "output_type": "execute_result"
    }
   ],
   "source": [
    "g"
   ]
  },
  {
   "cell_type": "code",
   "execution_count": 85,
   "metadata": {},
   "outputs": [
    {
     "data": {
      "text/plain": [
       "array([6, 2, 8, 5, 0])"
      ]
     },
     "execution_count": 85,
     "metadata": {},
     "output_type": "execute_result"
    }
   ],
   "source": [
    "label"
   ]
  },
  {
   "cell_type": "code",
   "execution_count": 76,
   "metadata": {},
   "outputs": [
    {
     "name": "stdout",
     "output_type": "stream",
     "text": [
      "-0.000483760478827\n"
     ]
    }
   ],
   "source": [
    "t.train(200)"
   ]
  },
  {
   "cell_type": "code",
   "execution_count": 77,
   "metadata": {},
   "outputs": [
    {
     "data": {
      "text/plain": [
       "0.22459270449537813"
      ]
     },
     "execution_count": 77,
     "metadata": {},
     "output_type": "execute_result"
    }
   ],
   "source": [
    "t.error"
   ]
  },
  {
   "cell_type": "code",
   "execution_count": 78,
   "metadata": {},
   "outputs": [
    {
     "data": {
      "text/plain": [
       "array([0, 0, 0, 0, 0, 0, 0, 0, 0, 0, 0, 0, 0, 0, 0, 0, 0, 0, 0, 0, 0, 0, 0,\n",
       "       0, 0, 0, 0, 0, 0, 0, 0, 0, 0, 0, 0, 0, 0, 0, 0, 0, 0, 0, 0, 0, 0, 0,\n",
       "       0, 0, 0, 0])"
      ]
     },
     "execution_count": 78,
     "metadata": {},
     "output_type": "execute_result"
    }
   ],
   "source": [
    "t.prediction"
   ]
  },
  {
   "cell_type": "code",
   "execution_count": 129,
   "metadata": {},
   "outputs": [
    {
     "name": "stdout",
     "output_type": "stream",
     "text": [
      "0.242347686758\n"
     ]
    }
   ],
   "source": []
  },
  {
   "cell_type": "code",
   "execution_count": 121,
   "metadata": {},
   "outputs": [
    {
     "data": {
      "text/plain": [
       "'softmax'"
      ]
     },
     "execution_count": 121,
     "metadata": {},
     "output_type": "execute_result"
    }
   ],
   "source": [
    "t.layers[2]."
   ]
  },
  {
   "cell_type": "code",
   "execution_count": 126,
   "metadata": {},
   "outputs": [
    {
     "name": "stdout",
     "output_type": "stream",
     "text": [
      "-0.000818379860695\n"
     ]
    }
   ],
   "source": [
    "t.train(5)"
   ]
  },
  {
   "cell_type": "code",
   "execution_count": 118,
   "metadata": {},
   "outputs": [
    {
     "name": "stdout",
     "output_type": "stream",
     "text": [
      "-0.0022996477241 -1.88093984832e-06\n"
     ]
    }
   ],
   "source": []
  },
  {
   "cell_type": "code",
   "execution_count": 12,
   "metadata": {},
   "outputs": [
    {
     "name": "stderr",
     "output_type": "stream",
     "text": [
      "/Users/jmacdonald/anaconda/lib/python3.5/site-packages/ipykernel_launcher.py:1: RuntimeWarning: invalid value encountered in true_divide\n",
      "  \"\"\"Entry point for launching an IPython kernel.\n"
     ]
    },
    {
     "data": {
      "text/plain": [
       "array([[  3.45854539e+03,   3.66125694e+04,   1.75276218e+04,\n",
       "         -8.14334351e+03,  -1.85313746e+04,   6.31728022e+04,\n",
       "         -3.17947081e+04,   1.07029926e+03,   1.34963327e+04,\n",
       "          2.09006126e+04,   3.90045916e+04,   9.38328485e+03,\n",
       "          2.76267620e+04,   9.16341746e+03,   2.65577597e+05,\n",
       "          7.76956170e+03,   1.43149895e+05,   4.96174681e+04,\n",
       "          4.45936910e+04,   3.34384791e+04],\n",
       "       [ -1.19008716e+03,   3.67736664e+04,   1.74985351e+04,\n",
       "         -6.05461983e+03,  -3.27176108e+03,   7.53540800e+04,\n",
       "         -2.59184976e+04,   1.36420584e+03,   1.44430872e+04,\n",
       "          2.09703718e+04,   3.95837059e+04,   3.63102697e+03,\n",
       "          2.75751024e+04,   6.27534463e+03,   5.68621058e+05,\n",
       "          9.78706088e+03,   1.30202232e+05,   4.87287860e+04,\n",
       "          4.65642112e+04,   3.35843055e+04],\n",
       "       [             nan,              nan,              nan,\n",
       "                     nan,              nan,              nan,\n",
       "                     nan,              nan,              nan,\n",
       "                     nan,              nan,              nan,\n",
       "                     nan,              nan,              nan,\n",
       "                     nan,              nan,              nan,\n",
       "                     nan,              nan],\n",
       "       [             nan,              nan,              nan,\n",
       "                     nan,              nan,              nan,\n",
       "                     nan,              nan,              nan,\n",
       "                     nan,              nan,              nan,\n",
       "                     nan,              nan,              nan,\n",
       "                     nan,              nan,              nan,\n",
       "                     nan,              nan],\n",
       "       [             nan,              nan,              nan,\n",
       "                     nan,              nan,              nan,\n",
       "                     nan,              nan,              nan,\n",
       "                     nan,              nan,              nan,\n",
       "                     nan,              nan,              nan,\n",
       "                     nan,              nan,              nan,\n",
       "                     nan,              nan],\n",
       "       [             nan,              nan,              nan,\n",
       "                     nan,              nan,              nan,\n",
       "                     nan,              nan,              nan,\n",
       "                     nan,              nan,              nan,\n",
       "                     nan,              nan,              nan,\n",
       "                     nan,              nan,              nan,\n",
       "                     nan,              nan],\n",
       "       [             nan,              nan,              nan,\n",
       "                     nan,              nan,              nan,\n",
       "                     nan,              nan,              nan,\n",
       "                     nan,              nan,              nan,\n",
       "                     nan,              nan,              nan,\n",
       "                     nan,              nan,              nan,\n",
       "                     nan,              nan],\n",
       "       [             nan,              nan,              nan,\n",
       "                     nan,              nan,              nan,\n",
       "                     nan,              nan,              nan,\n",
       "                     nan,              nan,              nan,\n",
       "                     nan,              nan,              nan,\n",
       "                     nan,              nan,              nan,\n",
       "                     nan,              nan],\n",
       "       [             nan,              nan,              nan,\n",
       "                     nan,              nan,              nan,\n",
       "                     nan,              nan,              nan,\n",
       "                     nan,              nan,              nan,\n",
       "                     nan,              nan,              nan,\n",
       "                     nan,              nan,              nan,\n",
       "                     nan,              nan],\n",
       "       [ -2.77631915e+04,   4.10718471e+04,   1.78998533e+04,\n",
       "         -1.08517880e+04,   1.25884734e+03,   6.89373902e+04,\n",
       "         -2.88326441e+04,  -9.19107537e+03,   1.42927997e+04,\n",
       "          2.03744870e+04,   3.87300840e+04,   6.82921440e+03,\n",
       "          2.76139069e+04,   8.84696405e+03,  -1.28253137e+05,\n",
       "          1.04887305e+04,   1.05625783e+05,   5.93000262e+04,\n",
       "          4.62250957e+04,   3.50035502e+04],\n",
       "       [  3.84541665e+03,   3.69328165e+04,   1.73741152e+04,\n",
       "         -6.69906570e+03,  -1.41477123e+04,   7.11965626e+04,\n",
       "         -2.44078477e+04,   2.18077901e+03,   1.37373077e+04,\n",
       "          2.09011463e+04,   3.98123610e+04,   6.66155857e+03,\n",
       "          2.76403134e+04,   8.13699438e+03,   2.47310024e+05,\n",
       "          8.17493757e+03,   1.31216389e+05,   4.92835459e+04,\n",
       "          4.62984966e+04,   3.36144666e+04],\n",
       "       [             nan,              nan,              nan,\n",
       "                     nan,              nan,              nan,\n",
       "                     nan,              nan,              nan,\n",
       "                     nan,              nan,              nan,\n",
       "                     nan,              nan,              nan,\n",
       "                     nan,              nan,              nan,\n",
       "                     nan,              nan],\n",
       "       [             nan,              nan,              nan,\n",
       "                     nan,              nan,              nan,\n",
       "                     nan,              nan,              nan,\n",
       "                     nan,              nan,              nan,\n",
       "                     nan,              nan,              nan,\n",
       "                     nan,              nan,              nan,\n",
       "                     nan,              nan],\n",
       "       [             nan,              nan,              nan,\n",
       "                     nan,              nan,              nan,\n",
       "                     nan,              nan,              nan,\n",
       "                     nan,              nan,              nan,\n",
       "                     nan,              nan,              nan,\n",
       "                     nan,              nan,              nan,\n",
       "                     nan,              nan],\n",
       "       [  6.57565037e+02,   3.74267799e+04,   1.77058516e+04,\n",
       "         -7.90903273e+03,  -1.09140909e+04,   7.24015998e+04,\n",
       "         -2.43986451e+04,  -6.46079290e+02,   1.42295154e+04,\n",
       "          2.09110081e+04,   3.88921329e+04,   6.74455435e+03,\n",
       "          2.75788408e+04,   8.27104811e+03,   6.47909716e+05,\n",
       "          8.61319649e+03,   1.69212618e+05,   5.11151029e+04,\n",
       "          4.45551462e+04,   3.37349994e+04],\n",
       "       [             nan,              nan,              nan,\n",
       "                     nan,              nan,              nan,\n",
       "                     nan,              nan,              nan,\n",
       "                     nan,              nan,              nan,\n",
       "                     nan,              nan,              nan,\n",
       "                     nan,              nan,              nan,\n",
       "                     nan,              nan],\n",
       "       [  9.16218642e+02,   3.64021525e+04,   1.77746483e+04,\n",
       "         -5.60622155e+03,  -4.20910893e+03,   7.40901094e+04,\n",
       "         -1.99674305e+04,   2.29137218e+03,   1.48428193e+04,\n",
       "          2.11744661e+04,   3.91318894e+04,  -5.78009123e+02,\n",
       "          2.75009806e+04,   5.83961927e+03,   1.15386398e+06,\n",
       "          1.04597412e+04,   1.36778656e+05,   4.68961885e+04,\n",
       "          4.66662598e+04,   3.32333972e+04],\n",
       "       [  2.43482866e+03,   3.50806807e+04,   1.74024653e+04,\n",
       "         -5.20690818e+03,   8.61596102e+02,   9.50544651e+04,\n",
       "         -2.33538630e+04,  -1.66235610e+03,   1.52253230e+04,\n",
       "          2.13570074e+04,   3.89724298e+04,  -5.57450669e+03,\n",
       "          2.74571478e+04,  -6.11698446e+03,   5.31756217e+05,\n",
       "          1.11939842e+04,   4.62068608e+05,   4.32520240e+04,\n",
       "          4.56112062e+04,   3.27660504e+04],\n",
       "       [  2.00339167e+02,   3.68730702e+04,   1.78328639e+04,\n",
       "         -6.04319392e+03,  -7.99430462e+03,   6.51659958e+04,\n",
       "         -2.55125575e+04,  -8.66952283e+02,   1.47089952e+04,\n",
       "          2.10017452e+04,   3.88379893e+04,   5.24316729e+03,\n",
       "          2.75284499e+04,   6.19365491e+03,   8.96398435e+06,\n",
       "          1.01903177e+04,   1.55284116e+05,   4.77013187e+04,\n",
       "          4.60513269e+04,   3.33632668e+04],\n",
       "       [  4.40433728e+03,   3.60057221e+04,   1.74363724e+04,\n",
       "         -6.99505018e+03,  -1.20925282e+04,   6.36186506e+04,\n",
       "         -2.65862232e+04,   2.76754490e+03,   1.37382120e+04,\n",
       "          2.10460873e+04,   3.93201615e+04,   6.55138562e+03,\n",
       "          2.75932618e+04,   7.74168509e+03,   2.92723647e+05,\n",
       "          8.89315637e+03,   1.30707156e+05,   4.69958528e+04,\n",
       "          4.60448397e+04,   3.31622553e+04]])"
      ]
     },
     "execution_count": 12,
     "metadata": {},
     "output_type": "execute_result"
    }
   ],
   "source": [
    "ilayer.grads_w  / ilayer.mangrads"
   ]
  },
  {
   "cell_type": "code",
   "execution_count": 918,
   "metadata": {},
   "outputs": [
    {
     "data": {
      "text/plain": [
       "array([[ 0.,  0.,  0.,  0.,  0.,  0.,  0.,  0.,  0.,  1.],\n",
       "       [ 1.,  0.,  0.,  0.,  0.,  0.,  0.,  0.,  0.,  0.],\n",
       "       [ 1.,  0.,  0.,  0.,  0.,  0.,  0.,  0.,  0.,  0.],\n",
       "       [ 0.,  0.,  0.,  1.,  0.,  0.,  0.,  0.,  0.,  0.],\n",
       "       [ 1.,  0.,  0.,  0.,  0.,  0.,  0.,  0.,  0.,  0.],\n",
       "       [ 0.,  0.,  1.,  0.,  0.,  0.,  0.,  0.,  0.,  0.],\n",
       "       [ 0.,  0.,  0.,  0.,  0.,  0.,  0.,  1.,  0.,  0.],\n",
       "       [ 0.,  0.,  1.,  0.,  0.,  0.,  0.,  0.,  0.,  0.],\n",
       "       [ 0.,  0.,  0.,  0.,  0.,  1.,  0.,  0.,  0.,  0.],\n",
       "       [ 0.,  0.,  0.,  0.,  0.,  1.,  0.,  0.,  0.,  0.],\n",
       "       [ 1.,  0.,  0.,  0.,  0.,  0.,  0.,  0.,  0.,  0.],\n",
       "       [ 0.,  0.,  0.,  0.,  0.,  0.,  0.,  0.,  0.,  1.],\n",
       "       [ 0.,  0.,  0.,  0.,  0.,  1.,  0.,  0.,  0.,  0.],\n",
       "       [ 0.,  0.,  0.,  0.,  0.,  1.,  0.,  0.,  0.,  0.],\n",
       "       [ 0.,  0.,  0.,  0.,  0.,  0.,  0.,  1.,  0.,  0.],\n",
       "       [ 0.,  0.,  0.,  0.,  0.,  0.,  0.,  0.,  0.,  1.],\n",
       "       [ 0.,  1.,  0.,  0.,  0.,  0.,  0.,  0.,  0.,  0.],\n",
       "       [ 1.,  0.,  0.,  0.,  0.,  0.,  0.,  0.,  0.,  0.],\n",
       "       [ 0.,  0.,  0.,  0.,  0.,  0.,  1.,  0.,  0.,  0.],\n",
       "       [ 0.,  0.,  0.,  0.,  1.,  0.,  0.,  0.,  0.,  0.],\n",
       "       [ 0.,  0.,  0.,  1.,  0.,  0.,  0.,  0.,  0.,  0.],\n",
       "       [ 0.,  1.,  0.,  0.,  0.,  0.,  0.,  0.,  0.,  0.],\n",
       "       [ 0.,  0.,  0.,  0.,  1.,  0.,  0.,  0.,  0.,  0.],\n",
       "       [ 0.,  0.,  0.,  0.,  0.,  0.,  0.,  0.,  1.,  0.],\n",
       "       [ 0.,  0.,  0.,  0.,  1.,  0.,  0.,  0.,  0.,  0.],\n",
       "       [ 0.,  0.,  0.,  1.,  0.,  0.,  0.,  0.,  0.,  0.],\n",
       "       [ 1.,  0.,  0.,  0.,  0.,  0.,  0.,  0.,  0.,  0.],\n",
       "       [ 0.,  0.,  1.,  0.,  0.,  0.,  0.,  0.,  0.,  0.],\n",
       "       [ 0.,  0.,  0.,  0.,  1.,  0.,  0.,  0.,  0.,  0.],\n",
       "       [ 0.,  0.,  0.,  0.,  1.,  0.,  0.,  0.,  0.,  0.],\n",
       "       [ 0.,  0.,  0.,  0.,  0.,  1.,  0.,  0.,  0.,  0.],\n",
       "       [ 0.,  0.,  0.,  1.,  0.,  0.,  0.,  0.,  0.,  0.],\n",
       "       [ 0.,  0.,  0.,  0.,  0.,  0.,  1.,  0.,  0.,  0.],\n",
       "       [ 0.,  0.,  0.,  0.,  0.,  0.,  1.,  0.,  0.,  0.],\n",
       "       [ 1.,  0.,  0.,  0.,  0.,  0.,  0.,  0.,  0.,  0.],\n",
       "       [ 0.,  0.,  0.,  0.,  0.,  0.,  0.,  0.,  1.,  0.],\n",
       "       [ 0.,  0.,  0.,  0.,  0.,  1.,  0.,  0.,  0.,  0.],\n",
       "       [ 0.,  0.,  1.,  0.,  0.,  0.,  0.,  0.,  0.,  0.],\n",
       "       [ 0.,  1.,  0.,  0.,  0.,  0.,  0.,  0.,  0.,  0.],\n",
       "       [ 0.,  0.,  0.,  0.,  0.,  0.,  1.,  0.,  0.,  0.],\n",
       "       [ 0.,  0.,  0.,  0.,  0.,  0.,  1.,  0.,  0.,  0.],\n",
       "       [ 0.,  0.,  0.,  0.,  0.,  0.,  0.,  1.,  0.,  0.],\n",
       "       [ 0.,  0.,  0.,  0.,  0.,  0.,  0.,  0.,  0.,  1.],\n",
       "       [ 0.,  0.,  0.,  0.,  0.,  1.,  0.,  0.,  0.,  0.],\n",
       "       [ 0.,  0.,  0.,  0.,  0.,  0.,  0.,  0.,  0.,  1.],\n",
       "       [ 0.,  0.,  1.,  0.,  0.,  0.,  0.,  0.,  0.,  0.],\n",
       "       [ 0.,  0.,  0.,  0.,  0.,  0.,  0.,  1.,  0.,  0.],\n",
       "       [ 0.,  0.,  0.,  1.,  0.,  0.,  0.,  0.,  0.,  0.],\n",
       "       [ 1.,  0.,  0.,  0.,  0.,  0.,  0.,  0.,  0.,  0.],\n",
       "       [ 0.,  0.,  0.,  1.,  0.,  0.,  0.,  0.,  0.,  0.]])"
      ]
     },
     "execution_count": 918,
     "metadata": {},
     "output_type": "execute_result"
    }
   ],
   "source": [
    "matricise_label(label[:l], t.output)"
   ]
  },
  {
   "cell_type": "code",
   "execution_count": 830,
   "metadata": {},
   "outputs": [
    {
     "data": {
      "text/plain": [
       "0"
      ]
     },
     "execution_count": 830,
     "metadata": {},
     "output_type": "execute_result"
    }
   ],
   "source": [
    "ilayer.w_update"
   ]
  },
  {
   "cell_type": "code",
   "execution_count": 815,
   "metadata": {},
   "outputs": [
    {
     "data": {
      "text/plain": [
       "array([[ 0.        ,  0.        ,  0.        ,  0.        ,  0.        ,\n",
       "         0.        ,  0.        ,  0.        ,  0.        ,  0.        ],\n",
       "       [ 0.        ,  0.        ,  0.        ,  0.        ,  0.        ,\n",
       "         0.        ,  0.        ,  0.        ,  0.        ,  0.        ],\n",
       "       [ 0.        ,  0.        ,  0.        ,  0.        ,  0.        ,\n",
       "         0.        ,  0.        ,  0.        ,  0.        ,  0.        ],\n",
       "       [-0.04336676,  0.00976251,  0.00808357, -0.01540056,  0.01050987,\n",
       "         0.00561242,  0.00319403,  0.00983543,  0.0049072 ,  0.00686229],\n",
       "       [-0.21456937,  0.0480537 ,  0.03978873, -0.06501779,  0.05170294,\n",
       "         0.02761138,  0.01572486,  0.04837764,  0.02414765,  0.02418027]])"
      ]
     },
     "execution_count": 815,
     "metadata": {},
     "output_type": "execute_result"
    }
   ],
   "source": [
    "ilayer.grads_w"
   ]
  },
  {
   "cell_type": "code",
   "execution_count": 816,
   "metadata": {},
   "outputs": [
    {
     "data": {
      "text/plain": [
       "array([[ 0.01038004,  0.32742784,  0.82849109,  0.11259759,  0.02469574,\n",
       "         0.81435353,  0.24890527,  0.2491966 ,  0.1582368 ,  0.27605595],\n",
       "       [ 0.42871035,  0.25842181,  0.36694704,  0.34929559,  0.33303578,\n",
       "         0.3033672 ,  0.31512729,  0.27022518,  0.90029462,  0.9669742 ],\n",
       "       [ 0.89669855,  0.37327538,  0.64827922,  0.31144182,  0.8099721 ,\n",
       "         0.8047729 ,  0.79441769,  0.11143517,  0.81159814,  0.77955234],\n",
       "       [ 0.89068014,  0.32116235,  0.10612497,  0.16327289,  0.6714358 ,\n",
       "         0.71343323,  0.23682575,  0.80445612,  0.91766982,  0.98366129],\n",
       "       [ 1.02795787,  0.50900478,  0.69436502,  0.08583992,  0.8937227 ,\n",
       "         0.80964578,  0.35681598,  0.96877689,  0.38254362,  0.01262672]])"
      ]
     },
     "execution_count": 816,
     "metadata": {},
     "output_type": "execute_result"
    }
   ],
   "source": [
    "ilayer.weights"
   ]
  },
  {
   "cell_type": "code",
   "execution_count": 782,
   "metadata": {},
   "outputs": [
    {
     "data": {
      "text/plain": [
       "'10.00%'"
      ]
     },
     "execution_count": 782,
     "metadata": {},
     "output_type": "execute_result"
    }
   ],
   "source": [
    "\"{:.2f}%\".format((t.prediction == label[:l]).mean()*100)"
   ]
  },
  {
   "cell_type": "code",
   "execution_count": 790,
   "metadata": {},
   "outputs": [
    {
     "data": {
      "text/plain": [
       "{8}"
      ]
     },
     "execution_count": 790,
     "metadata": {},
     "output_type": "execute_result"
    }
   ],
   "source": [
    "set(t.prediction)"
   ]
  },
  {
   "cell_type": "code",
   "execution_count": 386,
   "metadata": {},
   "outputs": [
    {
     "data": {
      "text/plain": [
       "[(7, 9),\n",
       " (7, 0),\n",
       " (7, 0),\n",
       " (7, 3),\n",
       " (7, 0),\n",
       " (7, 2),\n",
       " (7, 7),\n",
       " (7, 2),\n",
       " (7, 5),\n",
       " (7, 5),\n",
       " (7, 0),\n",
       " (7, 9),\n",
       " (7, 5),\n",
       " (7, 5),\n",
       " (7, 7),\n",
       " (7, 9),\n",
       " (7, 1),\n",
       " (7, 0),\n",
       " (7, 6),\n",
       " (7, 4),\n",
       " (7, 3),\n",
       " (7, 1),\n",
       " (7, 4),\n",
       " (7, 8),\n",
       " (7, 4),\n",
       " (7, 3),\n",
       " (7, 0),\n",
       " (7, 2),\n",
       " (7, 4),\n",
       " (7, 4),\n",
       " (7, 5),\n",
       " (7, 3),\n",
       " (7, 6),\n",
       " (7, 6),\n",
       " (7, 0),\n",
       " (7, 8),\n",
       " (7, 5),\n",
       " (7, 2),\n",
       " (7, 1),\n",
       " (7, 6),\n",
       " (7, 6),\n",
       " (7, 7),\n",
       " (7, 9),\n",
       " (7, 5),\n",
       " (7, 9),\n",
       " (7, 2),\n",
       " (7, 7),\n",
       " (7, 3),\n",
       " (7, 0),\n",
       " (7, 3),\n",
       " (7, 3),\n",
       " (7, 3),\n",
       " (7, 7),\n",
       " (7, 2),\n",
       " (7, 2),\n",
       " (7, 6),\n",
       " (7, 6),\n",
       " (7, 8),\n",
       " (7, 3),\n",
       " (7, 3),\n",
       " (7, 5),\n",
       " (7, 0),\n",
       " (7, 5),\n",
       " (7, 5),\n",
       " (7, 0),\n",
       " (7, 2),\n",
       " (7, 0),\n",
       " (7, 0),\n",
       " (7, 4),\n",
       " (7, 1),\n",
       " (7, 3),\n",
       " (7, 1),\n",
       " (7, 6),\n",
       " (7, 3),\n",
       " (7, 1),\n",
       " (7, 4),\n",
       " (7, 4),\n",
       " (7, 6),\n",
       " (7, 1),\n",
       " (7, 9),\n",
       " (7, 1),\n",
       " (7, 3),\n",
       " (7, 5),\n",
       " (7, 7),\n",
       " (7, 9),\n",
       " (7, 7),\n",
       " (7, 1),\n",
       " (7, 7),\n",
       " (7, 9),\n",
       " (7, 9),\n",
       " (7, 9),\n",
       " (7, 3),\n",
       " (7, 2),\n",
       " (7, 9),\n",
       " (7, 3),\n",
       " (7, 6),\n",
       " (7, 4),\n",
       " (7, 1),\n",
       " (7, 1),\n",
       " (7, 8)]"
      ]
     },
     "execution_count": 386,
     "metadata": {},
     "output_type": "execute_result"
    }
   ],
   "source": [
    "list(zip(t.prediction, label[:100]))"
   ]
  },
  {
   "cell_type": "code",
   "execution_count": null,
   "metadata": {
    "collapsed": true
   },
   "outputs": [],
   "source": []
  }
 ],
 "metadata": {
  "kernelspec": {
   "display_name": "Python 3",
   "language": "python",
   "name": "python3"
  },
  "language_info": {
   "codemirror_mode": {
    "name": "ipython",
    "version": 3
   },
   "file_extension": ".py",
   "mimetype": "text/x-python",
   "name": "python",
   "nbconvert_exporter": "python",
   "pygments_lexer": "ipython3",
   "version": "3.5.4"
  }
 },
 "nbformat": 4,
 "nbformat_minor": 2
}
